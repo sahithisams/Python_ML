{
 "cells": [
  {
   "cell_type": "markdown",
   "metadata": {},
   "source": [
    "Print Statements"
   ]
  },
  {
   "cell_type": "code",
   "execution_count": 1,
   "metadata": {},
   "outputs": [
    {
     "name": "stdout",
     "output_type": "stream",
     "text": [
      "Hi\n"
     ]
    }
   ],
   "source": [
    "print(\"Hi\")   #printing a string"
   ]
  },
  {
   "cell_type": "code",
   "execution_count": 2,
   "metadata": {},
   "outputs": [
    {
     "name": "stdout",
     "output_type": "stream",
     "text": [
      "Hello\n",
      "\n",
      "\n",
      "World\n"
     ]
    }
   ],
   "source": [
    "print(\"hi\")\n",
    "print(\"\\n\")\n",
    "print(\"this is sahithi\")    #printing in newline"
   ]
  },
  {
   "cell_type": "code",
   "execution_count": 3,
   "metadata": {},
   "outputs": [
    {
     "name": "stdout",
     "output_type": "stream",
     "text": [
      "hi\n",
      "\n",
      "\n",
      "\n",
      "\n",
      "this is sahithi\n"
     ]
    }
   ],
   "source": [
    "print(\"hi\")\n",
    "print(3*\"\\n\")\n",
    "print(\"this is sahithi\")    #printing after multiple newlines"
   ]
  },
  {
   "cell_type": "code",
   "execution_count": 4,
   "metadata": {},
   "outputs": [
    {
     "name": "stdout",
     "output_type": "stream",
     "text": [
      "oh welcome:)"
     ]
    }
   ],
   "source": [
    "print('oh','welcome',sep=' ',end=':)')   #printing various objects using sep and end parameters"
   ]
  },
  {
   "cell_type": "code",
   "execution_count": 6,
   "metadata": {},
   "outputs": [
    {
     "name": "stdout",
     "output_type": "stream",
     "text": [
      "Python- Machine Learning\n"
     ]
    }
   ],
   "source": [
    "s1 = \"Python- \"\n",
    "s2 = \"Machine \"\n",
    "s3 = \"Learning\"\n",
    "print(s1+s2+s3)  #concatenation printing of strings"
   ]
  },
  {
   "cell_type": "code",
   "execution_count": 7,
   "metadata": {},
   "outputs": [
    {
     "name": "stdout",
     "output_type": "stream",
     "text": [
      "404-Page not Found\n"
     ]
    }
   ],
   "source": [
    "a=404\n",
    "b='-Page not Found'\n",
    "print(str(a)+b)    #printing concatenation of different datatypes"
   ]
  },
  {
   "cell_type": "code",
   "execution_count": 10,
   "metadata": {},
   "outputs": [
    {
     "name": "stdout",
     "output_type": "stream",
     "text": [
      "Current date and time is 2022-09-09 18:52:09.260677\n"
     ]
    }
   ],
   "source": [
    "import datetime\n",
    "present = datetime.datetime.now()\n",
    "print(f'Current date and time is {present}')    #printing formatted strings"
   ]
  },
  {
   "cell_type": "code",
   "execution_count": 13,
   "metadata": {},
   "outputs": [
    {
     "name": "stdout",
     "output_type": "stream",
     "text": [
      "My name is Sahithi\n"
     ]
    }
   ],
   "source": [
    "name='Sahithi'\n",
    "print(\"My name is\",name)    #printing using positional arguments"
   ]
  },
  {
   "cell_type": "code",
   "execution_count": 15,
   "metadata": {},
   "outputs": [
    {
     "name": "stdout",
     "output_type": "stream",
     "text": [
      "None\n"
     ]
    }
   ],
   "source": [
    "print(None)   #printing none constant\n"
   ]
  },
  {
   "cell_type": "code",
   "execution_count": 17,
   "metadata": {},
   "outputs": [
    {
     "name": "stdout",
     "output_type": "stream",
     "text": [
      "sahithi\n",
      "Name: sahithi\n"
     ]
    }
   ],
   "source": [
    "name=input()\n",
    "print(\"Name:\",name)   #printing user inputs"
   ]
  },
  {
   "cell_type": "code",
   "execution_count": 18,
   "metadata": {},
   "outputs": [
    {
     "name": "stdout",
     "output_type": "stream",
     "text": [
      "Abdul Kalam is immortal\n"
     ]
    }
   ],
   "source": [
    "sen='%s is immortal'\n",
    "print(sen%'Abdul Kalam')   #printing using placeholders"
   ]
  },
  {
   "cell_type": "markdown",
   "metadata": {},
   "source": [
    "Datatypes and methods in strings"
   ]
  },
  {
   "cell_type": "code",
   "execution_count": 19,
   "metadata": {},
   "outputs": [],
   "source": [
    "#Numeric Datatypes--int,float\n",
    "#Text type--str"
   ]
  },
  {
   "cell_type": "code",
   "execution_count": 20,
   "metadata": {},
   "outputs": [
    {
     "name": "stdout",
     "output_type": "stream",
     "text": [
      "<class 'int'>\n"
     ]
    }
   ],
   "source": [
    "x=3\n",
    "print(type(x))"
   ]
  },
  {
   "cell_type": "code",
   "execution_count": 21,
   "metadata": {},
   "outputs": [
    {
     "name": "stdout",
     "output_type": "stream",
     "text": [
      "<class 'float'>\n"
     ]
    }
   ],
   "source": [
    "y=2.34\n",
    "print(type(y))"
   ]
  },
  {
   "cell_type": "code",
   "execution_count": 22,
   "metadata": {},
   "outputs": [
    {
     "name": "stdout",
     "output_type": "stream",
     "text": [
      "<class 'str'>\n"
     ]
    }
   ],
   "source": [
    "j='Shaurya'\n",
    "print(type(j))"
   ]
  },
  {
   "cell_type": "code",
   "execution_count": 23,
   "metadata": {},
   "outputs": [
    {
     "name": "stdout",
     "output_type": "stream",
     "text": [
      "8\n",
      "9.2\n",
      "Lion\n"
     ]
    }
   ],
   "source": [
    "# setting the specific datatype\n",
    "a=int(8)\n",
    "b=float(9.2)\n",
    "c=str('Lion')\n",
    "print(a)\n",
    "print(b)\n",
    "print(c)"
   ]
  },
  {
   "cell_type": "code",
   "execution_count": 27,
   "metadata": {},
   "outputs": [
    {
     "name": "stdout",
     "output_type": "stream",
     "text": [
      "Float to Int: 8\n",
      "Int to Float: 6.0\n"
     ]
    }
   ],
   "source": [
    "#converting one numerical datatype into another(ie., int to float and vice-versa)\n",
    "g=8.4\n",
    "print(\"Float to Int:\",int(g))\n",
    "\n",
    "h=6\n",
    "print(\"Int to Float:\",float(h))"
   ]
  },
  {
   "cell_type": "code",
   "execution_count": 52,
   "metadata": {},
   "outputs": [
    {
     "name": "stdout",
     "output_type": "stream",
     "text": [
      "Capitalising the string: Sahithi\n",
      "Returns the count of particular string: 2\n",
      "Returns true if the given string endswith that particular string: True\n",
      "Finds the position of particular string: 4\n",
      "Returns the index: 0\n",
      "Returns true if string  is alphanumeric: True\n",
      "Returns true if string is alphabet: True\n",
      "Returns true if all string characters are ascii characters: True\n",
      "Returns true if string contains all decimals: False\n",
      "Returns true if string is an identifier: True\n",
      "Returns true if string is in lowercase: False\n",
      "Returns true if string is in uppercase: False\n",
      "Converts the string to lowercase: sahithi\n",
      "Converts the string to uppercase: SAHITHI\n",
      "Converts the first character of each word to upper case: Sahithi\n"
     ]
    }
   ],
   "source": [
    "#string methods in python for manipulation,accessing,joining,finding etc.,\n",
    "u='sAhithi'\n",
    "print(\"Capitalising the string:\",u.capitalize())\n",
    "print(\"Returns the count of particular string:\",u.count('i'))\n",
    "print(\"Returns true if the given string endswith that particular string:\",u.endswith('thi'))\n",
    "print(\"Finds the position of particular string:\",u.find('t'))\n",
    "print('Returns the index:',u.index('sA'))\n",
    "print(\"Returns true if string  is alphanumeric:\",u.isalnum())\n",
    "print(\"Returns true if string is alphabet:\",u.isalpha())\n",
    "print(\"Returns true if all string characters are ascii characters:\",u.isascii())\n",
    "print(\"Returns true if string contains all decimals:\",u.isdecimal())\n",
    "print(\"Returns true if string is an identifier:\",u.isidentifier())\n",
    "print(\"Returns true if string is in lowercase:\",u.islower())\n",
    "print(\"Returns true if string is in uppercase:\",u.isupper())\n",
    "print(\"Converts the string to lowercase:\",u.lower())\n",
    "print(\"Converts the string to uppercase:\",u.upper())\n",
    "print(\"Converts the first character of each word to upper case:\",u.title())"
   ]
  },
  {
   "cell_type": "code",
   "execution_count": null,
   "metadata": {},
   "outputs": [],
   "source": []
  }
 ],
 "metadata": {
  "kernelspec": {
   "display_name": "Python 3",
   "language": "python",
   "name": "python3"
  },
  "language_info": {
   "codemirror_mode": {
    "name": "ipython",
    "version": 3
   },
   "file_extension": ".py",
   "mimetype": "text/x-python",
   "name": "python",
   "nbconvert_exporter": "python",
   "pygments_lexer": "ipython3",
   "version": "3.8.5"
  }
 },
 "nbformat": 4,
 "nbformat_minor": 4
}
